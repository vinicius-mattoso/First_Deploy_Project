{
 "cells": [
  {
   "cell_type": "markdown",
   "metadata": {},
   "source": [
    "Esse trabalho é uma parte do Desafio Final do BootCamp de Pyhton do IGTI.\n",
    "Nesse projeto final, foi pedido para criar diferentes modelos para realizar a previsão da Diabetes, com base na base de dados de paciente com e sem Diabetes.\n",
    "Após, rodar os três modelos(KNN, árvore de Decisão e MLP) irei avaliar o que teve a melhor resposta.\n",
    "Como próxima etapa desse projeto, irei criar uma aplicação em flask para realizar o Deploy do modelo que apresentar a melhor resposta nesse notebook."
   ]
  },
  {
   "cell_type": "code",
   "execution_count": 1,
   "metadata": {},
   "outputs": [],
   "source": [
    "#Carregando as bibliotecas iniciais e a base de dados\n",
    "import pandas as pd\n",
    "import matplotlib.pyplot as plt\n",
    "\n",
    "df_diabetes=pd.read_csv('Base-diabetes.csv')\n"
   ]
  },
  {
   "cell_type": "code",
   "execution_count": 2,
   "metadata": {},
   "outputs": [
    {
     "data": {
      "text/html": [
       "<div>\n",
       "<style scoped>\n",
       "    .dataframe tbody tr th:only-of-type {\n",
       "        vertical-align: middle;\n",
       "    }\n",
       "\n",
       "    .dataframe tbody tr th {\n",
       "        vertical-align: top;\n",
       "    }\n",
       "\n",
       "    .dataframe thead th {\n",
       "        text-align: right;\n",
       "    }\n",
       "</style>\n",
       "<table border=\"1\" class=\"dataframe\">\n",
       "  <thead>\n",
       "    <tr style=\"text-align: right;\">\n",
       "      <th></th>\n",
       "      <th>6</th>\n",
       "      <th>148</th>\n",
       "      <th>72</th>\n",
       "      <th>35</th>\n",
       "      <th>0</th>\n",
       "      <th>33.6</th>\n",
       "      <th>0.627</th>\n",
       "      <th>50</th>\n",
       "      <th>1</th>\n",
       "    </tr>\n",
       "  </thead>\n",
       "  <tbody>\n",
       "    <tr>\n",
       "      <th>0</th>\n",
       "      <td>1</td>\n",
       "      <td>85</td>\n",
       "      <td>66</td>\n",
       "      <td>29</td>\n",
       "      <td>0</td>\n",
       "      <td>26.6</td>\n",
       "      <td>0.351</td>\n",
       "      <td>31</td>\n",
       "      <td>0</td>\n",
       "    </tr>\n",
       "    <tr>\n",
       "      <th>1</th>\n",
       "      <td>8</td>\n",
       "      <td>183</td>\n",
       "      <td>64</td>\n",
       "      <td>0</td>\n",
       "      <td>0</td>\n",
       "      <td>23.3</td>\n",
       "      <td>0.672</td>\n",
       "      <td>32</td>\n",
       "      <td>1</td>\n",
       "    </tr>\n",
       "    <tr>\n",
       "      <th>2</th>\n",
       "      <td>1</td>\n",
       "      <td>89</td>\n",
       "      <td>66</td>\n",
       "      <td>23</td>\n",
       "      <td>94</td>\n",
       "      <td>28.1</td>\n",
       "      <td>0.167</td>\n",
       "      <td>21</td>\n",
       "      <td>0</td>\n",
       "    </tr>\n",
       "    <tr>\n",
       "      <th>3</th>\n",
       "      <td>0</td>\n",
       "      <td>137</td>\n",
       "      <td>40</td>\n",
       "      <td>35</td>\n",
       "      <td>168</td>\n",
       "      <td>43.1</td>\n",
       "      <td>2.288</td>\n",
       "      <td>33</td>\n",
       "      <td>1</td>\n",
       "    </tr>\n",
       "    <tr>\n",
       "      <th>4</th>\n",
       "      <td>5</td>\n",
       "      <td>116</td>\n",
       "      <td>74</td>\n",
       "      <td>0</td>\n",
       "      <td>0</td>\n",
       "      <td>25.6</td>\n",
       "      <td>0.201</td>\n",
       "      <td>30</td>\n",
       "      <td>0</td>\n",
       "    </tr>\n",
       "  </tbody>\n",
       "</table>\n",
       "</div>"
      ],
      "text/plain": [
       "   6  148  72  35    0  33.6  0.627  50  1\n",
       "0  1   85  66  29    0  26.6  0.351  31  0\n",
       "1  8  183  64   0    0  23.3  0.672  32  1\n",
       "2  1   89  66  23   94  28.1  0.167  21  0\n",
       "3  0  137  40  35  168  43.1  2.288  33  1\n",
       "4  5  116  74   0    0  25.6  0.201  30  0"
      ]
     },
     "execution_count": 2,
     "metadata": {},
     "output_type": "execute_result"
    }
   ],
   "source": [
    "#Visualizando os primeiros elementos dessa base de dados\n",
    "df_diabetes.head()"
   ]
  },
  {
   "cell_type": "code",
   "execution_count": 3,
   "metadata": {},
   "outputs": [
    {
     "name": "stdout",
     "output_type": "stream",
     "text": [
      "   Num. Gravid  Conc. Glicose  Pressao Diast.  Dobra Cut.  Insulina   IMC  \\\n",
      "0            1             85              66          29         0  26.6   \n",
      "1            8            183              64           0         0  23.3   \n",
      "2            1             89              66          23        94  28.1   \n",
      "3            0            137              40          35       168  43.1   \n",
      "4            5            116              74           0         0  25.6   \n",
      "\n",
      "   Historic  Idade  Result  \n",
      "0     0.351     31       0  \n",
      "1     0.672     32       1  \n",
      "2     0.167     21       0  \n",
      "3     2.288     33       1  \n",
      "4     0.201     30       0  \n"
     ]
    }
   ],
   "source": [
    "# Colocando o nome das colunas do Dados\n",
    "df_diabetes.columns=['Num. Gravid','Conc. Glicose','Pressao Diast.','Dobra Cut.','Insulina','IMC','Historic','Idade','Result']\n",
    "###Result ---> 0 Não e  1 Sim\n",
    "print(df_diabetes.head())"
   ]
  },
  {
   "cell_type": "markdown",
   "metadata": {},
   "source": [
    "Agora irei começar a fazer uma análise das informações contidas nessa base de dados, primeiramente irei verificar:\n",
    "-1: Os tipos de dados;\n",
    "-2: Verificar a existencia de zeros e NaN\n",
    "-3: Avaliar possiveis insconsistencias no Dataset"
   ]
  },
  {
   "cell_type": "code",
   "execution_count": 4,
   "metadata": {},
   "outputs": [
    {
     "name": "stdout",
     "output_type": "stream",
     "text": [
      "<class 'pandas.core.frame.DataFrame'>\n",
      "RangeIndex: 767 entries, 0 to 766\n",
      "Data columns (total 9 columns):\n",
      " #   Column          Non-Null Count  Dtype  \n",
      "---  ------          --------------  -----  \n",
      " 0   Num. Gravid     767 non-null    int64  \n",
      " 1   Conc. Glicose   767 non-null    int64  \n",
      " 2   Pressao Diast.  767 non-null    int64  \n",
      " 3   Dobra Cut.      767 non-null    int64  \n",
      " 4   Insulina        767 non-null    int64  \n",
      " 5   IMC             767 non-null    float64\n",
      " 6   Historic        767 non-null    float64\n",
      " 7   Idade           767 non-null    int64  \n",
      " 8   Result          767 non-null    int64  \n",
      "dtypes: float64(2), int64(7)\n",
      "memory usage: 54.1 KB\n"
     ]
    }
   ],
   "source": [
    "##########################################################\n",
    "########## Analise exploratoria do modelo ################\n",
    "##########################################################\n",
    "###### Verificando os tipos de dados no Dataset ##########\n",
    "##########################################################\n",
    "df_diabetes.info()"
   ]
  },
  {
   "cell_type": "code",
   "execution_count": 5,
   "metadata": {},
   "outputs": [
    {
     "data": {
      "text/plain": [
       "Num. Gravid       0\n",
       "Conc. Glicose     0\n",
       "Pressao Diast.    0\n",
       "Dobra Cut.        0\n",
       "Insulina          0\n",
       "IMC               0\n",
       "Historic          0\n",
       "Idade             0\n",
       "Result            0\n",
       "dtype: int64"
      ]
     },
     "execution_count": 5,
     "metadata": {},
     "output_type": "execute_result"
    }
   ],
   "source": [
    "##########################################################\n",
    "########## Analise exploratoria do modelo ################\n",
    "##########################################################\n",
    "##### Verificando a existencia de Zeros e NaN  ##########\n",
    "##########################################################\n",
    "df_diabetes.isnull().sum()"
   ]
  },
  {
   "cell_type": "code",
   "execution_count": 6,
   "metadata": {},
   "outputs": [
    {
     "name": "stdout",
     "output_type": "stream",
     "text": [
      "       Num. Gravid  Conc. Glicose  Pressao Diast.  Dobra Cut.    Insulina  \\\n",
      "count   767.000000     767.000000      767.000000  767.000000  767.000000   \n",
      "mean      3.842243     120.859192       69.101695   20.517601   79.903520   \n",
      "std       3.370877      31.978468       19.368155   15.954059  115.283105   \n",
      "min       0.000000       0.000000        0.000000    0.000000    0.000000   \n",
      "25%       1.000000      99.000000       62.000000    0.000000    0.000000   \n",
      "50%       3.000000     117.000000       72.000000   23.000000   32.000000   \n",
      "75%       6.000000     140.000000       80.000000   32.000000  127.500000   \n",
      "max      17.000000     199.000000      122.000000   99.000000  846.000000   \n",
      "\n",
      "              IMC    Historic       Idade      Result  \n",
      "count  767.000000  767.000000  767.000000  767.000000  \n",
      "mean    31.990482    0.471674   33.219035    0.348110  \n",
      "std      7.889091    0.331497   11.752296    0.476682  \n",
      "min      0.000000    0.078000   21.000000    0.000000  \n",
      "25%     27.300000    0.243500   24.000000    0.000000  \n",
      "50%     32.000000    0.371000   29.000000    0.000000  \n",
      "75%     36.600000    0.625000   41.000000    1.000000  \n",
      "max     67.100000    2.420000   81.000000    1.000000  \n"
     ]
    }
   ],
   "source": [
    "##########################################################\n",
    "########## Analise exploratoria do modelo ################\n",
    "##########################################################\n",
    "###### Verificando Inconsistencias no Dataset   ##########\n",
    "##########################################################\n",
    "print(df_diabetes.describe())"
   ]
  },
  {
   "cell_type": "markdown",
   "metadata": {},
   "source": [
    "Analisnando as informações estatisticas do nosso data set, podemos inferir que não temos uma inconsistencia de dados, pois esses valores são possiveis de ocorrer."
   ]
  },
  {
   "cell_type": "code",
   "execution_count": 7,
   "metadata": {},
   "outputs": [
    {
     "data": {
      "text/html": [
       "<div>\n",
       "<style scoped>\n",
       "    .dataframe tbody tr th:only-of-type {\n",
       "        vertical-align: middle;\n",
       "    }\n",
       "\n",
       "    .dataframe tbody tr th {\n",
       "        vertical-align: top;\n",
       "    }\n",
       "\n",
       "    .dataframe thead th {\n",
       "        text-align: right;\n",
       "    }\n",
       "</style>\n",
       "<table border=\"1\" class=\"dataframe\">\n",
       "  <thead>\n",
       "    <tr style=\"text-align: right;\">\n",
       "      <th></th>\n",
       "      <th>Num. Gravid</th>\n",
       "      <th>Conc. Glicose</th>\n",
       "      <th>Pressao Diast.</th>\n",
       "      <th>Dobra Cut.</th>\n",
       "      <th>Insulina</th>\n",
       "      <th>IMC</th>\n",
       "      <th>Historic</th>\n",
       "      <th>Idade</th>\n",
       "      <th>Result</th>\n",
       "    </tr>\n",
       "  </thead>\n",
       "  <tbody>\n",
       "    <tr>\n",
       "      <th>Num. Gravid</th>\n",
       "      <td>1.000000</td>\n",
       "      <td>0.128846</td>\n",
       "      <td>0.141197</td>\n",
       "      <td>-0.082495</td>\n",
       "      <td>-0.072999</td>\n",
       "      <td>0.017518</td>\n",
       "      <td>-0.033927</td>\n",
       "      <td>0.544018</td>\n",
       "      <td>0.221087</td>\n",
       "    </tr>\n",
       "    <tr>\n",
       "      <th>Conc. Glicose</th>\n",
       "      <td>0.128846</td>\n",
       "      <td>1.000000</td>\n",
       "      <td>0.152498</td>\n",
       "      <td>0.056381</td>\n",
       "      <td>0.332383</td>\n",
       "      <td>0.220955</td>\n",
       "      <td>0.136903</td>\n",
       "      <td>0.262408</td>\n",
       "      <td>0.465856</td>\n",
       "    </tr>\n",
       "    <tr>\n",
       "      <th>Pressao Diast.</th>\n",
       "      <td>0.141197</td>\n",
       "      <td>0.152498</td>\n",
       "      <td>1.000000</td>\n",
       "      <td>0.207308</td>\n",
       "      <td>0.089098</td>\n",
       "      <td>0.281777</td>\n",
       "      <td>0.041180</td>\n",
       "      <td>0.239571</td>\n",
       "      <td>0.064882</td>\n",
       "    </tr>\n",
       "    <tr>\n",
       "      <th>Dobra Cut.</th>\n",
       "      <td>-0.082495</td>\n",
       "      <td>0.056381</td>\n",
       "      <td>0.207308</td>\n",
       "      <td>1.000000</td>\n",
       "      <td>0.437974</td>\n",
       "      <td>0.392553</td>\n",
       "      <td>0.183498</td>\n",
       "      <td>-0.115873</td>\n",
       "      <td>0.073265</td>\n",
       "    </tr>\n",
       "    <tr>\n",
       "      <th>Insulina</th>\n",
       "      <td>-0.072999</td>\n",
       "      <td>0.332383</td>\n",
       "      <td>0.089098</td>\n",
       "      <td>0.437974</td>\n",
       "      <td>1.000000</td>\n",
       "      <td>0.198111</td>\n",
       "      <td>0.185579</td>\n",
       "      <td>-0.040942</td>\n",
       "      <td>0.131984</td>\n",
       "    </tr>\n",
       "    <tr>\n",
       "      <th>IMC</th>\n",
       "      <td>0.017518</td>\n",
       "      <td>0.220955</td>\n",
       "      <td>0.281777</td>\n",
       "      <td>0.392553</td>\n",
       "      <td>0.198111</td>\n",
       "      <td>1.000000</td>\n",
       "      <td>0.140546</td>\n",
       "      <td>0.035911</td>\n",
       "      <td>0.292695</td>\n",
       "    </tr>\n",
       "    <tr>\n",
       "      <th>Historic</th>\n",
       "      <td>-0.033927</td>\n",
       "      <td>0.136903</td>\n",
       "      <td>0.041180</td>\n",
       "      <td>0.183498</td>\n",
       "      <td>0.185579</td>\n",
       "      <td>0.140546</td>\n",
       "      <td>1.000000</td>\n",
       "      <td>0.032738</td>\n",
       "      <td>0.173245</td>\n",
       "    </tr>\n",
       "    <tr>\n",
       "      <th>Idade</th>\n",
       "      <td>0.544018</td>\n",
       "      <td>0.262408</td>\n",
       "      <td>0.239571</td>\n",
       "      <td>-0.115873</td>\n",
       "      <td>-0.040942</td>\n",
       "      <td>0.035911</td>\n",
       "      <td>0.032738</td>\n",
       "      <td>1.000000</td>\n",
       "      <td>0.236417</td>\n",
       "    </tr>\n",
       "    <tr>\n",
       "      <th>Result</th>\n",
       "      <td>0.221087</td>\n",
       "      <td>0.465856</td>\n",
       "      <td>0.064882</td>\n",
       "      <td>0.073265</td>\n",
       "      <td>0.131984</td>\n",
       "      <td>0.292695</td>\n",
       "      <td>0.173245</td>\n",
       "      <td>0.236417</td>\n",
       "      <td>1.000000</td>\n",
       "    </tr>\n",
       "  </tbody>\n",
       "</table>\n",
       "</div>"
      ],
      "text/plain": [
       "                Num. Gravid  Conc. Glicose  Pressao Diast.  Dobra Cut.  \\\n",
       "Num. Gravid        1.000000       0.128846        0.141197   -0.082495   \n",
       "Conc. Glicose      0.128846       1.000000        0.152498    0.056381   \n",
       "Pressao Diast.     0.141197       0.152498        1.000000    0.207308   \n",
       "Dobra Cut.        -0.082495       0.056381        0.207308    1.000000   \n",
       "Insulina          -0.072999       0.332383        0.089098    0.437974   \n",
       "IMC                0.017518       0.220955        0.281777    0.392553   \n",
       "Historic          -0.033927       0.136903        0.041180    0.183498   \n",
       "Idade              0.544018       0.262408        0.239571   -0.115873   \n",
       "Result             0.221087       0.465856        0.064882    0.073265   \n",
       "\n",
       "                Insulina       IMC  Historic     Idade    Result  \n",
       "Num. Gravid    -0.072999  0.017518 -0.033927  0.544018  0.221087  \n",
       "Conc. Glicose   0.332383  0.220955  0.136903  0.262408  0.465856  \n",
       "Pressao Diast.  0.089098  0.281777  0.041180  0.239571  0.064882  \n",
       "Dobra Cut.      0.437974  0.392553  0.183498 -0.115873  0.073265  \n",
       "Insulina        1.000000  0.198111  0.185579 -0.040942  0.131984  \n",
       "IMC             0.198111  1.000000  0.140546  0.035911  0.292695  \n",
       "Historic        0.185579  0.140546  1.000000  0.032738  0.173245  \n",
       "Idade          -0.040942  0.035911  0.032738  1.000000  0.236417  \n",
       "Result          0.131984  0.292695  0.173245  0.236417  1.000000  "
      ]
     },
     "execution_count": 7,
     "metadata": {},
     "output_type": "execute_result"
    }
   ],
   "source": [
    "##########################################################\n",
    "########## Analise Correspondencia do modelo #############\n",
    "##########################################################\n",
    "\n",
    "df_diabetes.corr()"
   ]
  },
  {
   "cell_type": "markdown",
   "metadata": {},
   "source": [
    "Analisnando preliminarmente a matriz de correspondencia do modelo podemos inferir que a priori a \"Pressão Diast.\" e a \"Dobra Cut.\" não possuem um correlação muito grande com o paciente ter ou não diabetes"
   ]
  },
  {
   "cell_type": "code",
   "execution_count": 8,
   "metadata": {},
   "outputs": [
    {
     "data": {
      "image/png": "[encoded data removed]",
      "text/plain": [
       "<Figure size 432x288 with 2 Axes>"
      ]
     },
     "metadata": {
      "needs_background": "light"
     },
     "output_type": "display_data"
    }
   ],
   "source": [
    "fig, axs = plt.subplots(1, 2, sharey=True, tight_layout=True)\n",
    "axs[0].hist2d(df_diabetes['Pressao Diast.'],df_diabetes['Result']);\n",
    "axs[0].set_title('Histograma da Pressao Diast.', fontsize=10)\n",
    "\n",
    "axs[1].hist2d(df_diabetes['Dobra Cut.'],df_diabetes['Result']);\n",
    "axs[1].set_title('Histograma da Dobra Cut.', fontsize=10);"
   ]
  },
  {
   "cell_type": "markdown",
   "metadata": {},
   "source": [
    "Como já era de se esperar, visto pela matriz de correlação, não podemos tirar uma conclusão sobre a doença olhando somente para a Pressao Diast. e nem para a Dobra Cut."
   ]
  },
  {
   "cell_type": "code",
   "execution_count": 9,
   "metadata": {},
   "outputs": [
    {
     "data": {
      "image/png": "[encoded data removed]",
      "text/plain": [
       "<Figure size 432x288 with 2 Axes>"
      ]
     },
     "metadata": {
      "needs_background": "light"
     },
     "output_type": "display_data"
    }
   ],
   "source": [
    "fig, axs = plt.subplots(1, 2, sharey=True, tight_layout=True)\n",
    "axs[0].hist2d(df_diabetes['IMC'],df_diabetes['Result']);\n",
    "axs[0].set_title('Histograma do IMC', fontsize=10)\n",
    "\n",
    "axs[1].hist2d(df_diabetes['Conc. Glicose'],df_diabetes['Result']);\n",
    "axs[1].set_title('Histograma da Conc. Glicose', fontsize=10);\n",
    "\n",
    "\n"
   ]
  },
  {
   "cell_type": "markdown",
   "metadata": {},
   "source": [
    "Como vitso na matriz de correlação e no histogramas acima, temos variaveis que são mais impactantes para a classificação do paciente do que as outras.\n",
    "Para melhorar essa visualização e facilitar a sua interpretação, iremos separar esse Dataset em dois dataset diferentes, sendo um apenas com pacientes que são doentes e os outros não "
   ]
  },
  {
   "cell_type": "code",
   "execution_count": 10,
   "metadata": {},
   "outputs": [],
   "source": [
    "##########################################################\n",
    "##### Criando um base só com Pessoas Diabeticas  #########\n",
    "##########################################################\n",
    "\n",
    "df_diabetes_com=df_diabetes.loc[df_diabetes['Result']==1]\n",
    "\n",
    "##########################################################\n",
    "##### Criando um base só com Pessoas Sem Diabeticas  #####\n",
    "##########################################################\n",
    "\n",
    "df_diabetes_sem=df_diabetes.loc[df_diabetes['Result']==0]\n"
   ]
  },
  {
   "cell_type": "markdown",
   "metadata": {},
   "source": [
    "Agora iremos analisar se nosso dataset esta balanceado, com isso ja podemos ter uma noção de qual métrica de avaliação iremos utilizar para avaliar nosso modelo."
   ]
  },
  {
   "cell_type": "code",
   "execution_count": 11,
   "metadata": {},
   "outputs": [
    {
     "name": "stdout",
     "output_type": "stream",
     "text": [
      "<class 'pandas.core.frame.DataFrame'>\n",
      "Int64Index: 267 entries, 1 to 765\n",
      "Data columns (total 9 columns):\n",
      " #   Column          Non-Null Count  Dtype  \n",
      "---  ------          --------------  -----  \n",
      " 0   Num. Gravid     267 non-null    int64  \n",
      " 1   Conc. Glicose   267 non-null    int64  \n",
      " 2   Pressao Diast.  267 non-null    int64  \n",
      " 3   Dobra Cut.      267 non-null    int64  \n",
      " 4   Insulina        267 non-null    int64  \n",
      " 5   IMC             267 non-null    float64\n",
      " 6   Historic        267 non-null    float64\n",
      " 7   Idade           267 non-null    int64  \n",
      " 8   Result          267 non-null    int64  \n",
      "dtypes: float64(2), int64(7)\n",
      "memory usage: 20.9 KB\n"
     ]
    }
   ],
   "source": [
    "df_diabetes_com.info()"
   ]
  },
  {
   "cell_type": "code",
   "execution_count": 12,
   "metadata": {},
   "outputs": [
    {
     "name": "stdout",
     "output_type": "stream",
     "text": [
      "<class 'pandas.core.frame.DataFrame'>\n",
      "Int64Index: 500 entries, 0 to 766\n",
      "Data columns (total 9 columns):\n",
      " #   Column          Non-Null Count  Dtype  \n",
      "---  ------          --------------  -----  \n",
      " 0   Num. Gravid     500 non-null    int64  \n",
      " 1   Conc. Glicose   500 non-null    int64  \n",
      " 2   Pressao Diast.  500 non-null    int64  \n",
      " 3   Dobra Cut.      500 non-null    int64  \n",
      " 4   Insulina        500 non-null    int64  \n",
      " 5   IMC             500 non-null    float64\n",
      " 6   Historic        500 non-null    float64\n",
      " 7   Idade           500 non-null    int64  \n",
      " 8   Result          500 non-null    int64  \n",
      "dtypes: float64(2), int64(7)\n",
      "memory usage: 39.1 KB\n"
     ]
    }
   ],
   "source": [
    "df_diabetes_sem.info()"
   ]
  },
  {
   "cell_type": "code",
   "execution_count": 13,
   "metadata": {},
   "outputs": [
    {
     "data": {
      "image/png": "[encoded data removed]",
      "text/plain": [
       "<Figure size 432x288 with 2 Axes>"
      ]
     },
     "metadata": {
      "needs_background": "light"
     },
     "output_type": "display_data"
    }
   ],
   "source": [
    "fig, axs = plt.subplots(1, 2, sharey=True, tight_layout=True)\n",
    "axs[0].hist(df_diabetes_com['IMC'])\n",
    "axs[0].set_title('IMC de Pacientes positivos', fontsize=10)\n",
    "\n",
    "axs[1].hist(df_diabetes_sem['IMC'])\n",
    "axs[1].set_title('IMC de Pacientes negativos', fontsize=10);"
   ]
  },
  {
   "cell_type": "code",
   "execution_count": 14,
   "metadata": {},
   "outputs": [
    {
     "data": {
      "image/png": "[encoded data removed]",
      "text/plain": [
       "<Figure size 432x288 with 2 Axes>"
      ]
     },
     "metadata": {
      "needs_background": "light"
     },
     "output_type": "display_data"
    }
   ],
   "source": [
    "fig, axs = plt.subplots(1, 2, sharey=True, tight_layout=True)\n",
    "axs[0].hist(df_diabetes_com['Idade'])\n",
    "axs[0].set_title('Idade de Pacientes positivos', fontsize=10)\n",
    "\n",
    "axs[1].hist(df_diabetes_sem['Idade'])\n",
    "axs[1].set_title('Idade de Pacientes negativos', fontsize=10);"
   ]
  },
  {
   "cell_type": "code",
   "execution_count": 15,
   "metadata": {},
   "outputs": [
    {
     "data": {
      "image/png": "[encoded data removed]",
      "text/plain": [
       "<Figure size 432x288 with 2 Axes>"
      ]
     },
     "metadata": {
      "needs_background": "light"
     },
     "output_type": "display_data"
    }
   ],
   "source": [
    "fig, axs = plt.subplots(1, 2, sharey=True, tight_layout=True)\n",
    "axs[0].hist(df_diabetes_com['Conc. Glicose'])\n",
    "axs[0].set_title('Glicose de Pacientes positivos', fontsize=10)\n",
    "\n",
    "axs[1].hist(df_diabetes_sem['Conc. Glicose'])\n",
    "axs[1].set_title('Glicose de Pacientes negativos', fontsize=10);\n"
   ]
  },
  {
   "cell_type": "markdown",
   "metadata": {},
   "source": [
    "Nessa parte do código iremos rodar três diferentes modelos de classificação (KNN, Random Forest, e MLP), não irei fazer nenhum tipo de filtro nos dados ou balanceamento na base, mesmo sabendo que precisamos uma vez que temos mais casos de paciente com diabetes do que sem.\n",
    "\n",
    "A primeira etapa vai ser a divisão em dados de entrada e dados target, seguido da normalização dos dados de entrada, que são as caracteristicas avaliadas para fazer a classificação.\n",
    "Por fim iremos fazer a divisão dos dados de treino e teste. Vale alterar diferentes valores do random_state utilizados para evitar análises tendenciosas"
   ]
  },
  {
   "cell_type": "code",
   "execution_count": 17,
   "metadata": {},
   "outputs": [],
   "source": [
    "#carregando as bibliotecas necessárias para dividir os dados e normalizar os mesmos\n",
    "\n",
    "from sklearn.model_selection import train_test_split\n",
    "from sklearn.preprocessing import MinMaxScaler"
   ]
  },
  {
   "cell_type": "code",
   "execution_count": 18,
   "metadata": {},
   "outputs": [],
   "source": [
    "normaliza = MinMaxScaler() #objeto para a normalização"
   ]
  },
  {
   "cell_type": "code",
   "execution_count": 19,
   "metadata": {},
   "outputs": [],
   "source": [
    "#transforma os dados em array\n",
    "entradas= df_diabetes.iloc[:, :-1].values  #dados de entrada\n",
    "saida= df_diabetes.iloc[:, 8].values  # saídas ou target"
   ]
  },
  {
   "cell_type": "code",
   "execution_count": 20,
   "metadata": {},
   "outputs": [],
   "source": [
    "entradas_normalizadas=normaliza.fit_transform(entradas)"
   ]
  },
  {
   "cell_type": "code",
   "execution_count": 21,
   "metadata": {},
   "outputs": [],
   "source": [
    "X_train, X_test, y_train, y_test =train_test_split(entradas_normalizadas, saida, test_size=0.30,random_state=42)"
   ]
  },
  {
   "cell_type": "markdown",
   "metadata": {},
   "source": [
    "Agora iremos começar a aplicação do modelo de KNN, utilizando 5 vizinhos para fazer a classificação"
   ]
  },
  {
   "cell_type": "code",
   "execution_count": 22,
   "metadata": {},
   "outputs": [
    {
     "data": {
      "text/plain": [
       "KNeighborsClassifier()"
      ]
     },
     "execution_count": 22,
     "metadata": {},
     "output_type": "execute_result"
    }
   ],
   "source": [
    "#aplicando o método do KNN\n",
    "#treina o modelo \n",
    "from sklearn.neighbors import KNeighborsClassifier\n",
    "clf_KNN = KNeighborsClassifier(n_neighbors=5)#utiliza a construção por meio de 5 vizinhos\n",
    "clf_KNN.fit(X_train, y_train) # aplica a classificação"
   ]
  },
  {
   "cell_type": "code",
   "execution_count": 23,
   "metadata": {},
   "outputs": [],
   "source": [
    "#realiza a previsão\n",
    "y_pred = clf_KNN.predict(X_test)"
   ]
  },
  {
   "cell_type": "markdown",
   "metadata": {},
   "source": [
    "Agora iremos exibir a matriz de confusão e o report de classificação desse modelo. Como nosso modelo esta desbalanceado iremos avaliar sua eficiencia pela acurácia e pelo F1-score"
   ]
  },
  {
   "cell_type": "code",
   "execution_count": 24,
   "metadata": {},
   "outputs": [
    {
     "name": "stdout",
     "output_type": "stream",
     "text": [
      "[[127  24]\n",
      " [ 44  36]]\n",
      "              precision    recall  f1-score   support\n",
      "\n",
      "           0       0.74      0.84      0.79       151\n",
      "           1       0.60      0.45      0.51        80\n",
      "\n",
      "    accuracy                           0.71       231\n",
      "   macro avg       0.67      0.65      0.65       231\n",
      "weighted avg       0.69      0.71      0.69       231\n",
      "\n"
     ]
    }
   ],
   "source": [
    "#constroi a matriz de confusão para comparar o modelo criado\n",
    "from sklearn.metrics import classification_report, confusion_matrix\n",
    "print(confusion_matrix(y_test, y_pred))"
   ]
  },
  {
   "cell_type": "code",
   "execution_count": null,
   "metadata": {},
   "outputs": [],
   "source": [
    "#Exibindo o report do modelo para avaliar o modelo criado\n",
    "print(classification_report(y_test, y_pred))"
   ]
  },
  {
   "cell_type": "code",
   "execution_count": 25,
   "metadata": {},
   "outputs": [],
   "source": [
    "#Avaliando agora por meio de uma arvore de Decisão\n",
    "from sklearn.tree import DecisionTreeClassifier # importa o classificador árvore de decisão"
   ]
  },
  {
   "cell_type": "code",
   "execution_count": 26,
   "metadata": {},
   "outputs": [],
   "source": [
    "# Cria o objeto de classificação através do \n",
    "clf_arvore = DecisionTreeClassifier(random_state=1)\n",
    "\n",
    "# Realiza o treinamento do classificador\n",
    "clf_arvore = clf_arvore.fit(X_train,y_train)\n",
    "\n",
    "#Realiza a previsão de classificaçao \n",
    "y_pred = clf_arvore.predict(X_test)"
   ]
  },
  {
   "cell_type": "code",
   "execution_count": 27,
   "metadata": {},
   "outputs": [
    {
     "name": "stdout",
     "output_type": "stream",
     "text": [
      "[[117  34]\n",
      " [ 31  49]]\n",
      "              precision    recall  f1-score   support\n",
      "\n",
      "           0       0.79      0.77      0.78       151\n",
      "           1       0.59      0.61      0.60        80\n",
      "\n",
      "    accuracy                           0.72       231\n",
      "   macro avg       0.69      0.69      0.69       231\n",
      "weighted avg       0.72      0.72      0.72       231\n",
      "\n"
     ]
    }
   ],
   "source": [
    "#constroi a matriz de confusão para comparar o modelo criado\n",
    "from sklearn.metrics import classification_report, confusion_matrix\n",
    "print(confusion_matrix(y_test, y_pred))\n"
   ]
  },
  {
   "cell_type": "code",
   "execution_count": null,
   "metadata": {},
   "outputs": [],
   "source": [
    "#Exibindo o report do modelo para avaliar o modelo criado\n",
    "print(classification_report(y_test, y_pred))"
   ]
  },
  {
   "cell_type": "code",
   "execution_count": 28,
   "metadata": {},
   "outputs": [],
   "source": [
    "#definição da biblioteca\n",
    "from sklearn.neural_network import MLPClassifier\n",
    "#Algoritmo Rede MLP\n",
    "clf_mlp = MLPClassifier(solver=\"lbfgs\", alpha=1e-5, hidden_layer_sizes=(5, 5), random_state=1,max_iter=1000)\n",
    "#Realiza o treinamento do classificador\n",
    "clf_mlp= clf_mlp.fit(X_train,y_train)\n",
    "\n",
    "#Realiza a previsão de classificaçao \n",
    "y_pred = clf_mlp.predict(X_test)"
   ]
  },
  {
   "cell_type": "code",
   "execution_count": 29,
   "metadata": {},
   "outputs": [
    {
     "name": "stdout",
     "output_type": "stream",
     "text": [
      "[[130  21]\n",
      " [ 32  48]]\n",
      "              precision    recall  f1-score   support\n",
      "\n",
      "           0       0.80      0.86      0.83       151\n",
      "           1       0.70      0.60      0.64        80\n",
      "\n",
      "    accuracy                           0.77       231\n",
      "   macro avg       0.75      0.73      0.74       231\n",
      "weighted avg       0.77      0.77      0.77       231\n",
      "\n"
     ]
    }
   ],
   "source": [
    "#constroi a matriz de confusão para comparar o modelo criado\n",
    "from sklearn.metrics import classification_report, confusion_matrix\n",
    "print(confusion_matrix(y_test, y_pred))\n"
   ]
  },
  {
   "cell_type": "code",
   "execution_count": null,
   "metadata": {},
   "outputs": [],
   "source": [
    "#Exibindo o report do modelo para avaliar o modelo criado\n",
    "print(classification_report(y_test, y_pred))"
   ]
  }
 ],
 "metadata": {
  "kernelspec": {
   "display_name": "Python 3",
   "language": "python",
   "name": "python3"
  },
  "language_info": {
   "codemirror_mode": {
    "name": "ipython",
    "version": 3
   },
   "file_extension": ".py",
   "mimetype": "text/x-python",
   "name": "python",
   "nbconvert_exporter": "python",
   "pygments_lexer": "ipython3",
   "version": "3.8.3"
  }
 },
 "nbformat": 4,
 "nbformat_minor": 4
}
